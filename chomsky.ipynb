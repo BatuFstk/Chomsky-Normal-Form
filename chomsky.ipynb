{
  "nbformat": 4,
  "nbformat_minor": 0,
  "metadata": {
    "colab": {
      "provenance": []
    },
    "kernelspec": {
      "name": "python3",
      "display_name": "Python 3"
    },
    "language_info": {
      "name": "python"
    }
  },
  "cells": [
    {
      "cell_type": "code",
      "execution_count": null,
      "metadata": {
        "colab": {
          "base_uri": "https://localhost:8080/",
          "height": 471
        },
        "id": "N7AKh7g1iMUM",
        "outputId": "4828b705-10d2-4e48-f44a-83559697481f"
      },
      "outputs": [
        {
          "name": "stdout",
          "output_type": "stream",
          "text": [
            "Chomsky Normal Form'a Çevirme Programı\n",
            "Üretim kurallarını girmek için '->' ile ayırın. Örneğin: S -> AB\n",
            "Çıkmak için 'q' tuşuna basın.\n",
            "Üretim kuralını girin: A -> BC , A ->  a , S -> ε\n",
            "Üretim kuralını girin: \n",
            "Üretim kuralını girin: q\n"
          ]
        },
        {
          "output_type": "error",
          "ename": "IndexError",
          "evalue": "tuple index out of range",
          "traceback": [
            "\u001b[0;31m---------------------------------------------------------------------------\u001b[0m",
            "\u001b[0;31mIndexError\u001b[0m                                Traceback (most recent call last)",
            "\u001b[0;32m<ipython-input-6-f5f31df3868e>\u001b[0m in \u001b[0;36m<cell line: 42>\u001b[0;34m()\u001b[0m\n\u001b[1;32m     40\u001b[0m \u001b[0;34m\u001b[0m\u001b[0m\n\u001b[1;32m     41\u001b[0m \u001b[0;31m# Chomsky Normal Form'a dönüştür\u001b[0m\u001b[0;34m\u001b[0m\u001b[0;34m\u001b[0m\u001b[0m\n\u001b[0;32m---> 42\u001b[0;31m \u001b[0mcnf_result\u001b[0m \u001b[0;34m=\u001b[0m \u001b[0mconvert_to_cnf\u001b[0m\u001b[0;34m(\u001b[0m\u001b[0mproductions\u001b[0m\u001b[0;34m)\u001b[0m\u001b[0;34m\u001b[0m\u001b[0;34m\u001b[0m\u001b[0m\n\u001b[0m\u001b[1;32m     43\u001b[0m \u001b[0;34m\u001b[0m\u001b[0m\n\u001b[1;32m     44\u001b[0m \u001b[0;31m# Sonuçları yazdır\u001b[0m\u001b[0;34m\u001b[0m\u001b[0;34m\u001b[0m\u001b[0m\n",
            "\u001b[0;32m<ipython-input-6-f5f31df3868e>\u001b[0m in \u001b[0;36mconvert_to_cnf\u001b[0;34m(productions)\u001b[0m\n\u001b[1;32m      4\u001b[0m     \u001b[0;31m# Adım 1: Her üretim kuralında terminal sembollerin bulunmasını sağla\u001b[0m\u001b[0;34m\u001b[0m\u001b[0;34m\u001b[0m\u001b[0m\n\u001b[1;32m      5\u001b[0m     \u001b[0;32mfor\u001b[0m \u001b[0mproduction\u001b[0m \u001b[0;32min\u001b[0m \u001b[0mproductions\u001b[0m\u001b[0;34m:\u001b[0m\u001b[0;34m\u001b[0m\u001b[0;34m\u001b[0m\u001b[0m\n\u001b[0;32m----> 6\u001b[0;31m         \u001b[0;32mif\u001b[0m \u001b[0mlen\u001b[0m\u001b[0;34m(\u001b[0m\u001b[0mproduction\u001b[0m\u001b[0;34m[\u001b[0m\u001b[0;36m1\u001b[0m\u001b[0;34m]\u001b[0m\u001b[0;34m)\u001b[0m \u001b[0;34m>\u001b[0m \u001b[0;36m2\u001b[0m\u001b[0;34m:\u001b[0m\u001b[0;34m\u001b[0m\u001b[0;34m\u001b[0m\u001b[0m\n\u001b[0m\u001b[1;32m      7\u001b[0m             \u001b[0;31m# Eğer üretim kuralında 2'den fazla sembol varsa, yeni non-terminal ekleyerek kısalt\u001b[0m\u001b[0;34m\u001b[0m\u001b[0;34m\u001b[0m\u001b[0m\n\u001b[1;32m      8\u001b[0m             \u001b[0mnew_non_terminal\u001b[0m \u001b[0;34m=\u001b[0m \u001b[0mproduction\u001b[0m\u001b[0;34m[\u001b[0m\u001b[0;36m1\u001b[0m\u001b[0;34m]\u001b[0m\u001b[0;34m[\u001b[0m\u001b[0;34m:\u001b[0m\u001b[0;36m2\u001b[0m\u001b[0;34m]\u001b[0m\u001b[0;34m\u001b[0m\u001b[0;34m\u001b[0m\u001b[0m\n",
            "\u001b[0;31mIndexError\u001b[0m: tuple index out of range"
          ]
        }
      ],
      "source": [
        "def convert_to_cnf(productions):\n",
        "    cnf_productions = []\n",
        "\n",
        "\n",
        "    for production in productions:\n",
        "        if len(production[1]) > 2:\n",
        "\n",
        "            new_non_terminal = production[1][:2]\n",
        "            cnf_productions.append((production[0], new_non_terminal))\n",
        "            for i in range(2, len(production[1])):\n",
        "                cnf_productions.append((new_non_terminal, production[1][i]))\n",
        "\n",
        "        else:\n",
        "            cnf_productions.append(production)\n",
        "\n",
        "\n",
        "    for production in cnf_productions:\n",
        "        for i in range(len(production[1])):\n",
        "            if production[1][i].islower():\n",
        "                terminal = production[1][i]\n",
        "                non_terminal = f\"T_{terminal}\"\n",
        "                cnf_productions.append((non_terminal, terminal))\n",
        "                production[1] = production[1][:i] + non_terminal + production[1][i+1:]\n",
        "\n",
        "    return cnf_productions\n",
        "\n",
        "\n",
        "\n",
        "print(\"Chomsky Normal Form'a Çevirme Programı\")\n",
        "print(\"Üretim kurallarını girmek için '->' ile ayırın. Örneğin: S -> AB\")\n",
        "print(\"Çıkmak için 'q' tuşuna basın.\")\n",
        "\n",
        "productions = []\n",
        "while True:\n",
        "    production = input(\"Üretim kuralını girin: \")\n",
        "    if production.lower() == 'q':\n",
        "        break\n",
        "    else:\n",
        "        productions.append(tuple(production.split(\"->\")))\n",
        "\n",
        "\n",
        "cnf_result = convert_to_cnf(productions)\n",
        "\n",
        "\n",
        "print(\"\\nChomsky Normal Form Üretim Kuralları:\")\n",
        "for production in cnf_result:\n",
        "    print(\" -> \".join(production))\n"
      ]
    }
  ]
}